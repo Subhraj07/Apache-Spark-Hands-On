{
  "nbformat": 4,
  "nbformat_minor": 0,
  "metadata": {
    "colab": {
      "name": "keras_test.ipynb",
      "version": "0.3.2",
      "provenance": [],
      "include_colab_link": true
    },
    "kernelspec": {
      "name": "python3",
      "display_name": "Python 3"
    },
    "accelerator": "GPU"
  },
  "cells": [
    {
      "cell_type": "markdown",
      "metadata": {
        "id": "view-in-github",
        "colab_type": "text"
      },
      "source": [
        "<a href=\"https://colab.research.google.com/github/Subhraj07/Apache-Spark-Hands-On/blob/master/MLpractice/CEREBRINOCS/keras_test.ipynb\" target=\"_parent\"><img src=\"https://colab.research.google.com/assets/colab-badge.svg\" alt=\"Open In Colab\"/></a>"
      ]
    },
    {
      "cell_type": "code",
      "metadata": {
        "id": "A6Gdse-xE4dn",
        "colab_type": "code",
        "colab": {
          "base_uri": "https://localhost:8080/",
          "height": 575
        },
        "outputId": "0cd4c6be-6e7a-41c9-d42f-45b926492754"
      },
      "source": [
        "# !pip install keras\n",
        "!pip install tensorflow==2.0.0-beta1"
      ],
      "execution_count": 2,
      "outputs": [
        {
          "output_type": "stream",
          "text": [
            "Collecting tensorflow==2.0.0-beta1\n",
            "\u001b[?25l  Downloading https://files.pythonhosted.org/packages/29/6c/2c9a5c4d095c63c2fb37d20def0e4f92685f7aee9243d6aae25862694fd1/tensorflow-2.0.0b1-cp36-cp36m-manylinux1_x86_64.whl (87.9MB)\n",
            "\u001b[K     |████████████████████████████████| 87.9MB 43.5MB/s \n",
            "\u001b[?25hCollecting tf-estimator-nightly<1.14.0.dev2019060502,>=1.14.0.dev2019060501 (from tensorflow==2.0.0-beta1)\n",
            "\u001b[?25l  Downloading https://files.pythonhosted.org/packages/32/dd/99c47dd007dcf10d63fd895611b063732646f23059c618a373e85019eb0e/tf_estimator_nightly-1.14.0.dev2019060501-py2.py3-none-any.whl (496kB)\n",
            "\u001b[K     |████████████████████████████████| 501kB 37.2MB/s \n",
            "\u001b[?25hRequirement already satisfied: protobuf>=3.6.1 in /usr/local/lib/python3.6/dist-packages (from tensorflow==2.0.0-beta1) (3.7.1)\n",
            "Requirement already satisfied: keras-applications>=1.0.6 in /usr/local/lib/python3.6/dist-packages (from tensorflow==2.0.0-beta1) (1.0.8)\n",
            "Collecting tb-nightly<1.14.0a20190604,>=1.14.0a20190603 (from tensorflow==2.0.0-beta1)\n",
            "\u001b[?25l  Downloading https://files.pythonhosted.org/packages/a4/96/571b875cd81dda9d5dfa1422a4f9d749e67c0a8d4f4f0b33a4e5f5f35e27/tb_nightly-1.14.0a20190603-py3-none-any.whl (3.1MB)\n",
            "\u001b[K     |████████████████████████████████| 3.1MB 36.0MB/s \n",
            "\u001b[?25hRequirement already satisfied: keras-preprocessing>=1.0.5 in /usr/local/lib/python3.6/dist-packages (from tensorflow==2.0.0-beta1) (1.1.0)\n",
            "Requirement already satisfied: numpy<2.0,>=1.14.5 in /usr/local/lib/python3.6/dist-packages (from tensorflow==2.0.0-beta1) (1.16.4)\n",
            "Requirement already satisfied: termcolor>=1.1.0 in /usr/local/lib/python3.6/dist-packages (from tensorflow==2.0.0-beta1) (1.1.0)\n",
            "Requirement already satisfied: wheel>=0.26 in /usr/local/lib/python3.6/dist-packages (from tensorflow==2.0.0-beta1) (0.33.4)\n",
            "Requirement already satisfied: six>=1.10.0 in /usr/local/lib/python3.6/dist-packages (from tensorflow==2.0.0-beta1) (1.12.0)\n",
            "Requirement already satisfied: grpcio>=1.8.6 in /usr/local/lib/python3.6/dist-packages (from tensorflow==2.0.0-beta1) (1.15.0)\n",
            "Requirement already satisfied: google-pasta>=0.1.6 in /usr/local/lib/python3.6/dist-packages (from tensorflow==2.0.0-beta1) (0.1.7)\n",
            "Requirement already satisfied: gast>=0.2.0 in /usr/local/lib/python3.6/dist-packages (from tensorflow==2.0.0-beta1) (0.2.2)\n",
            "Requirement already satisfied: absl-py>=0.7.0 in /usr/local/lib/python3.6/dist-packages (from tensorflow==2.0.0-beta1) (0.7.1)\n",
            "Requirement already satisfied: wrapt>=1.11.1 in /usr/local/lib/python3.6/dist-packages (from tensorflow==2.0.0-beta1) (1.11.1)\n",
            "Requirement already satisfied: astor>=0.6.0 in /usr/local/lib/python3.6/dist-packages (from tensorflow==2.0.0-beta1) (0.8.0)\n",
            "Requirement already satisfied: setuptools in /usr/local/lib/python3.6/dist-packages (from protobuf>=3.6.1->tensorflow==2.0.0-beta1) (41.0.1)\n",
            "Requirement already satisfied: h5py in /usr/local/lib/python3.6/dist-packages (from keras-applications>=1.0.6->tensorflow==2.0.0-beta1) (2.8.0)\n",
            "Requirement already satisfied: werkzeug>=0.11.15 in /usr/local/lib/python3.6/dist-packages (from tb-nightly<1.14.0a20190604,>=1.14.0a20190603->tensorflow==2.0.0-beta1) (0.15.4)\n",
            "Requirement already satisfied: markdown>=2.6.8 in /usr/local/lib/python3.6/dist-packages (from tb-nightly<1.14.0a20190604,>=1.14.0a20190603->tensorflow==2.0.0-beta1) (3.1.1)\n",
            "Installing collected packages: tf-estimator-nightly, tb-nightly, tensorflow\n",
            "  Found existing installation: tensorflow 1.14.0rc1\n",
            "    Uninstalling tensorflow-1.14.0rc1:\n",
            "      Successfully uninstalled tensorflow-1.14.0rc1\n",
            "Successfully installed tb-nightly-1.14.0a20190603 tensorflow-2.0.0b1 tf-estimator-nightly-1.14.0.dev2019060501\n"
          ],
          "name": "stdout"
        }
      ]
    },
    {
      "cell_type": "code",
      "metadata": {
        "id": "DCU9MWBOE-Lv",
        "colab_type": "code",
        "colab": {}
      },
      "source": [
        "# datasets [https://archive.ics.uci.edu/ml/machine-learning-databases/wine-quality/]\n",
        "#https://archive.ics.uci.edu/ml/machine-learning-databases/wine-quality/winequality-red.csv\n",
        "#https://archive.ics.uci.edu/ml/machine-learning-databases/wine-quality/winequality-white.csv\n",
        "#https://archive.ics.uci.edu/ml/machine-learning-databases/wine-quality/winequality.names   \n",
        "  "
      ],
      "execution_count": 0,
      "outputs": []
    },
    {
      "cell_type": "code",
      "metadata": {
        "id": "A9sHnB6W3qyf",
        "colab_type": "code",
        "colab": {}
      },
      "source": [
        "import pandas as pd"
      ],
      "execution_count": 0,
      "outputs": []
    },
    {
      "cell_type": "code",
      "metadata": {
        "id": "AXuWPYhZ17mS",
        "colab_type": "code",
        "colab": {}
      },
      "source": [
        "red = pd.read_csv(\"https://archive.ics.uci.edu/ml/machine-learning-databases/wine-quality/winequality-red.csv\", sep=\";\")\n",
        "white = pd.read_csv(\"https://archive.ics.uci.edu/ml/machine-learning-databases/wine-quality/winequality-white.csv\", sep=\";\")"
      ],
      "execution_count": 0,
      "outputs": []
    },
    {
      "cell_type": "code",
      "metadata": {
        "id": "9YCV71WW3wNV",
        "colab_type": "code",
        "colab": {
          "base_uri": "https://localhost:8080/",
          "height": 659
        },
        "outputId": "383cf25f-e8f1-4353-8b6e-6be473f3c615"
      },
      "source": [
        "# Print info on white wine\n",
        "print(white.info())\n",
        "print(\"==========================================================\")\n",
        "# Print info on red wine\n",
        "print(red.info())"
      ],
      "execution_count": 11,
      "outputs": [
        {
          "output_type": "stream",
          "text": [
            "<class 'pandas.core.frame.DataFrame'>\n",
            "RangeIndex: 4898 entries, 0 to 4897\n",
            "Data columns (total 12 columns):\n",
            "fixed acidity           4898 non-null float64\n",
            "volatile acidity        4898 non-null float64\n",
            "citric acid             4898 non-null float64\n",
            "residual sugar          4898 non-null float64\n",
            "chlorides               4898 non-null float64\n",
            "free sulfur dioxide     4898 non-null float64\n",
            "total sulfur dioxide    4898 non-null float64\n",
            "density                 4898 non-null float64\n",
            "pH                      4898 non-null float64\n",
            "sulphates               4898 non-null float64\n",
            "alcohol                 4898 non-null float64\n",
            "quality                 4898 non-null int64\n",
            "dtypes: float64(11), int64(1)\n",
            "memory usage: 459.3 KB\n",
            "None\n",
            "==========================================================\n",
            "<class 'pandas.core.frame.DataFrame'>\n",
            "RangeIndex: 1599 entries, 0 to 1598\n",
            "Data columns (total 12 columns):\n",
            "fixed acidity           1599 non-null float64\n",
            "volatile acidity        1599 non-null float64\n",
            "citric acid             1599 non-null float64\n",
            "residual sugar          1599 non-null float64\n",
            "chlorides               1599 non-null float64\n",
            "free sulfur dioxide     1599 non-null float64\n",
            "total sulfur dioxide    1599 non-null float64\n",
            "density                 1599 non-null float64\n",
            "pH                      1599 non-null float64\n",
            "sulphates               1599 non-null float64\n",
            "alcohol                 1599 non-null float64\n",
            "quality                 1599 non-null int64\n",
            "dtypes: float64(11), int64(1)\n",
            "memory usage: 150.0 KB\n",
            "None\n"
          ],
          "name": "stdout"
        }
      ]
    },
    {
      "cell_type": "code",
      "metadata": {
        "id": "WV3Y7c9b8FsA",
        "colab_type": "code",
        "colab": {
          "base_uri": "https://localhost:8080/",
          "height": 1803
        },
        "outputId": "93728460-3ede-4f98-db42-bca6501e5c07"
      },
      "source": [
        "# First rows of `red` \n",
        "print(red.head())\n",
        "print(\"==========================================================\")\n",
        "\n",
        "# Last rows of `white`\n",
        "print(white.tail())\n",
        "print(\"==========================================================\")\n",
        "\n",
        "# Take a sample of 5 rows of `red`\n",
        "print(red.sample(5))\n",
        "print(\"==========================================================\")\n",
        "\n",
        "# Describe `white`\n",
        "print(white.describe())\n",
        "print(\"==========================================================\")\n",
        "\n",
        "# Double check for null values in `red`\n",
        "print(pd.isnull(red))"
      ],
      "execution_count": 13,
      "outputs": [
        {
          "output_type": "stream",
          "text": [
            "   fixed acidity  volatile acidity  citric acid  ...  sulphates  alcohol  quality\n",
            "0            7.4              0.70         0.00  ...       0.56      9.4        5\n",
            "1            7.8              0.88         0.00  ...       0.68      9.8        5\n",
            "2            7.8              0.76         0.04  ...       0.65      9.8        5\n",
            "3           11.2              0.28         0.56  ...       0.58      9.8        6\n",
            "4            7.4              0.70         0.00  ...       0.56      9.4        5\n",
            "\n",
            "[5 rows x 12 columns]\n",
            "==========================================================\n",
            "      fixed acidity  volatile acidity  citric acid  ...  sulphates  alcohol  quality\n",
            "4893            6.2              0.21         0.29  ...       0.50     11.2        6\n",
            "4894            6.6              0.32         0.36  ...       0.46      9.6        5\n",
            "4895            6.5              0.24         0.19  ...       0.46      9.4        6\n",
            "4896            5.5              0.29         0.30  ...       0.38     12.8        7\n",
            "4897            6.0              0.21         0.38  ...       0.32     11.8        6\n",
            "\n",
            "[5 rows x 12 columns]\n",
            "==========================================================\n",
            "      fixed acidity  volatile acidity  citric acid  ...  sulphates  alcohol  quality\n",
            "297             7.1             0.630         0.06  ...       0.73      9.6        5\n",
            "1008            8.9             0.350         0.40  ...       0.70     12.0        7\n",
            "834             8.8             0.685         0.26  ...       0.47      9.4        5\n",
            "941             9.9             0.270         0.49  ...       0.52     12.5        7\n",
            "1465            6.8             0.590         0.10  ...       0.67      9.7        5\n",
            "\n",
            "[5 rows x 12 columns]\n",
            "==========================================================\n",
            "       fixed acidity  volatile acidity  ...      alcohol      quality\n",
            "count    4898.000000       4898.000000  ...  4898.000000  4898.000000\n",
            "mean        6.854788          0.278241  ...    10.514267     5.877909\n",
            "std         0.843868          0.100795  ...     1.230621     0.885639\n",
            "min         3.800000          0.080000  ...     8.000000     3.000000\n",
            "25%         6.300000          0.210000  ...     9.500000     5.000000\n",
            "50%         6.800000          0.260000  ...    10.400000     6.000000\n",
            "75%         7.300000          0.320000  ...    11.400000     6.000000\n",
            "max        14.200000          1.100000  ...    14.200000     9.000000\n",
            "\n",
            "[8 rows x 12 columns]\n",
            "==========================================================\n",
            "      fixed acidity  volatile acidity  citric acid  ...  sulphates  alcohol  quality\n",
            "0             False             False        False  ...      False    False    False\n",
            "1             False             False        False  ...      False    False    False\n",
            "2             False             False        False  ...      False    False    False\n",
            "3             False             False        False  ...      False    False    False\n",
            "4             False             False        False  ...      False    False    False\n",
            "5             False             False        False  ...      False    False    False\n",
            "6             False             False        False  ...      False    False    False\n",
            "7             False             False        False  ...      False    False    False\n",
            "8             False             False        False  ...      False    False    False\n",
            "9             False             False        False  ...      False    False    False\n",
            "10            False             False        False  ...      False    False    False\n",
            "11            False             False        False  ...      False    False    False\n",
            "12            False             False        False  ...      False    False    False\n",
            "13            False             False        False  ...      False    False    False\n",
            "14            False             False        False  ...      False    False    False\n",
            "15            False             False        False  ...      False    False    False\n",
            "16            False             False        False  ...      False    False    False\n",
            "17            False             False        False  ...      False    False    False\n",
            "18            False             False        False  ...      False    False    False\n",
            "19            False             False        False  ...      False    False    False\n",
            "20            False             False        False  ...      False    False    False\n",
            "21            False             False        False  ...      False    False    False\n",
            "22            False             False        False  ...      False    False    False\n",
            "23            False             False        False  ...      False    False    False\n",
            "24            False             False        False  ...      False    False    False\n",
            "25            False             False        False  ...      False    False    False\n",
            "26            False             False        False  ...      False    False    False\n",
            "27            False             False        False  ...      False    False    False\n",
            "28            False             False        False  ...      False    False    False\n",
            "29            False             False        False  ...      False    False    False\n",
            "...             ...               ...          ...  ...        ...      ...      ...\n",
            "1569          False             False        False  ...      False    False    False\n",
            "1570          False             False        False  ...      False    False    False\n",
            "1571          False             False        False  ...      False    False    False\n",
            "1572          False             False        False  ...      False    False    False\n",
            "1573          False             False        False  ...      False    False    False\n",
            "1574          False             False        False  ...      False    False    False\n",
            "1575          False             False        False  ...      False    False    False\n",
            "1576          False             False        False  ...      False    False    False\n",
            "1577          False             False        False  ...      False    False    False\n",
            "1578          False             False        False  ...      False    False    False\n",
            "1579          False             False        False  ...      False    False    False\n",
            "1580          False             False        False  ...      False    False    False\n",
            "1581          False             False        False  ...      False    False    False\n",
            "1582          False             False        False  ...      False    False    False\n",
            "1583          False             False        False  ...      False    False    False\n",
            "1584          False             False        False  ...      False    False    False\n",
            "1585          False             False        False  ...      False    False    False\n",
            "1586          False             False        False  ...      False    False    False\n",
            "1587          False             False        False  ...      False    False    False\n",
            "1588          False             False        False  ...      False    False    False\n",
            "1589          False             False        False  ...      False    False    False\n",
            "1590          False             False        False  ...      False    False    False\n",
            "1591          False             False        False  ...      False    False    False\n",
            "1592          False             False        False  ...      False    False    False\n",
            "1593          False             False        False  ...      False    False    False\n",
            "1594          False             False        False  ...      False    False    False\n",
            "1595          False             False        False  ...      False    False    False\n",
            "1596          False             False        False  ...      False    False    False\n",
            "1597          False             False        False  ...      False    False    False\n",
            "1598          False             False        False  ...      False    False    False\n",
            "\n",
            "[1599 rows x 12 columns]\n"
          ],
          "name": "stdout"
        }
      ]
    },
    {
      "cell_type": "code",
      "metadata": {
        "id": "Yx0syuff8rKI",
        "colab_type": "code",
        "colab": {
          "base_uri": "https://localhost:8080/",
          "height": 345
        },
        "outputId": "b0b38339-5a66-4f62-b2dd-0a6bea13b05b"
      },
      "source": [
        "import matplotlib.pyplot as plt\n",
        "\n",
        "fig, ax = plt.subplots(1, 2)\n",
        "\n",
        "ax[0].hist(red.alcohol, 10, facecolor='red', alpha=0.5, label=\"Red wine\")\n",
        "ax[1].hist(white.alcohol, 10, facecolor='white', ec=\"black\", lw=0.5, alpha=0.5, label=\"White wine\")\n",
        "\n",
        "fig.subplots_adjust(left=0, right=1, bottom=0, top=0.5, hspace=0.05, wspace=1)\n",
        "ax[0].set_ylim([0, 1000])\n",
        "ax[0].set_xlabel(\"Alcohol in % Vol\")\n",
        "ax[0].set_ylabel(\"Frequency\")\n",
        "ax[1].set_xlabel(\"Alcohol in % Vol\")\n",
        "ax[1].set_ylabel(\"Frequency\")\n",
        "#ax[0].legend(loc='best')\n",
        "#ax[1].legend(loc='best')\n",
        "fig.suptitle(\"Distribution of Alcohol in % Vol\")\n",
        "\n",
        "plt.show()"
      ],
      "execution_count": 14,
      "outputs": [
        {
          "output_type": "display_data",
          "data": {
            "image/png": "[encoded data removed]",
            "text/plain": [
              "<Figure size 432x288 with 2 Axes>"
            ]
          },
          "metadata": {
            "tags": []
          }
        }
      ]
    },
    {
      "cell_type": "code",
      "metadata": {
        "id": "tNChVLUa-ckH",
        "colab_type": "code",
        "colab": {}
      },
      "source": [
        ""
      ],
      "execution_count": 0,
      "outputs": []
    }
  ]
}